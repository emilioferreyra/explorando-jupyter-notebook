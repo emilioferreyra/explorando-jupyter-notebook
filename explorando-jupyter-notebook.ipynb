{
 "cells": [
  {
   "cell_type": "markdown",
   "metadata": {
    "slideshow": {
     "slide_type": "slide"
    }
   },
   "source": [
    "<center><img src=\"img/jupyter_logo-317x303.png\" alt=\"jupyter_logo\"></center>\n",
    "\n",
    "# <p style=\"text-align: center;\">Explorando Jupyter Notebook</p>\n",
    "<p style=\"text-align: center;\">Por Emilio Ferreyra</p>"
   ]
  },
  {
   "cell_type": "markdown",
   "metadata": {
    "slideshow": {
     "slide_type": "notes"
    }
   },
   "source": [
    "Hola y bienvenidos a esta desconferencia para mi es un placer y un honor tener la oportunidad de participar por tercera vez en el Barcamp Santiago."
   ]
  },
  {
   "cell_type": "markdown",
   "metadata": {
    "slideshow": {
     "slide_type": "slide"
    }
   },
   "source": [
    "<center><img src=\"img/Emilio-317x303.png\" alt=\"Emilio\"></center>\n",
    "<br>\n",
    "<center>¡Hola, soy Emilio!</center>\n",
    "<br>\n",
    "<center>Soy ingeniero en software, amante de GNU/Linux y el software libre. Ciclista de montaña de ocasión. Autodidacta por vocación. Creo que Python rockea y que puedes extender tu mente con Django.</center>\n",
    "<br>\n",
    "<center>{% extent your_mind.html %}</center>"
   ]
  },
  {
   "cell_type": "markdown",
   "metadata": {
    "slideshow": {
     "slide_type": "slide"
    }
   },
   "source": [
    "<center><img src=\"img/jupyter-main.png\"></center>\n",
    "\n",
    "## <p style=\"text-align: center;\"><a href=\"https://jupyter.org/\">Jupyter Project</a></p>\n",
    "\n"
   ]
  },
  {
   "cell_type": "markdown",
   "metadata": {
    "slideshow": {
     "slide_type": "notes"
    }
   },
   "source": [
    "Gracias por atender nuestra invitación para explorar Jupyter Notebook.\n",
    "\n",
    "* Aprender una nueva tecnología se asemeja mucho a preparar un viaje al extrajero. \n",
    "* Nos disponemos a explorar algo nuevo, así que investigamos un poco sobre su historia, su cultura, su comida…  \n",
    "* De ahí el nombre de nuestra desconferencia “Explorando Jupyter Notebook”."
   ]
  },
  {
   "cell_type": "markdown",
   "metadata": {
    "slideshow": {
     "slide_type": "slide"
    }
   },
   "source": [
    "<center><img src=\"img/lara-croft-464x564.png\"></center>\n",
    "\n",
    "### <p style=\"text-align: center;\">¿Listos para explorar?</p>\n"
   ]
  },
  {
   "cell_type": "markdown",
   "metadata": {
    "slideshow": {
     "slide_type": "notes"
    }
   },
   "source": [
    "De seguro se estarán preguntando que tiene que ver Lara Croft con Jupyter... pues nada, pero era ella o Dora la Exploradora."
   ]
  },
  {
   "cell_type": "markdown",
   "metadata": {
    "slideshow": {
     "slide_type": "slide"
    }
   },
   "source": [
    "<center><img src=\"img/python-logo.png\"></center>\n",
    "\n",
    "### <p style=\"text-align: center;\"><a href=\"https://www.python.org\">Python Project</a></p>"
   ]
  },
  {
   "cell_type": "code",
   "execution_count": 1,
   "metadata": {
    "slideshow": {
     "slide_type": "fragment"
    }
   },
   "outputs": [
    {
     "name": "stdout",
     "output_type": "stream",
     "text": [
      "Hello world!!!\n"
     ]
    }
   ],
   "source": [
    "print(\"Hello world!!!\")"
   ]
  },
  {
   "cell_type": "markdown",
   "metadata": {
    "slideshow": {
     "slide_type": "notes"
    }
   },
   "source": [
    "Para hablar del origen de Jupyter obligatoriamente tenemos que hablar de Python. \n",
    "\n",
    "¿qué decir de Python?\n",
    "\n",
    "* Es uno de los lenguajes de programación más populares de los últimos años.\n",
    "* Se encuentra en segundo lugar en el indice Tiobe.\n",
    "* Por primera vez ha superado al omnipotente Java."
   ]
  },
  {
   "cell_type": "markdown",
   "metadata": {
    "slideshow": {
     "slide_type": "slide"
    }
   },
   "source": [
    "<center><img src=\"img/Guido-van-Rossum-600x400.jpg\"></center>\n",
    "\n",
    "### <p style=\"text-align: center;\"><a href=\"https://es.wikipedia.org/wiki/Guido_van_Rossum\">Guido Van Rossum, creador de Python</a></p>"
   ]
  },
  {
   "cell_type": "code",
   "execution_count": 6,
   "metadata": {
    "slideshow": {
     "slide_type": "fragment"
    }
   },
   "outputs": [
    {
     "name": "stdout",
     "output_type": "stream",
     "text": [
      "Hello Benevolent Dictator for Life!\n"
     ]
    }
   ],
   "source": [
    "guido = \"Benevolent Dictator for Life\"\n",
    "\n",
    "def hi(name):\n",
    "    print(\"Hello {}!\".format(name))\n",
    "    \n",
    "hi(guido)"
   ]
  },
  {
   "cell_type": "markdown",
   "metadata": {
    "slideshow": {
     "slide_type": "notes"
    }
   },
   "source": [
    "Al principio Guido creó el lenguaje de programación Python.\n",
    "\n",
    "Y dijo: Sea el shell de Python; y fue el shell.\n",
    "\n",
    "Y vio Guido que el shell era bueno…"
   ]
  },
  {
   "cell_type": "markdown",
   "metadata": {
    "slideshow": {
     "slide_type": "slide"
    }
   },
   "source": [
    "<center><img src=\"img/fernando-perez.jpeg\"></center>\n",
    "\n",
    "### <p style=\"text-align: center;\"><a href=\"https://es.wikipedia.org/wiki/Fernando_P%C3%A9rez_(programador)\">Fernando Perez, creador de IPython</a></p>\n"
   ]
  },
  {
   "cell_type": "markdown",
   "metadata": {
    "slideshow": {
     "slide_type": "notes"
    }
   },
   "source": [
    "Varios años después, en el año 2001, un colombiano de nombre Fernando Perez se preguntó a sí mismo: \n",
    "\n",
    "Mi mismo: ¿Por qué no ponerle un poco de esteroides al shell de Python para hacerlo aún más versatil y poderoso? \n",
    "\n",
    "Y dijo: Hágase IPython; y fue IPython"
   ]
  },
  {
   "cell_type": "markdown",
   "metadata": {
    "slideshow": {
     "slide_type": "slide"
    }
   },
   "source": [
    "## ¿Qué es Jupyter Notebook?\n",
    "\n",
    "* <justify>Jupyter Notebook es una aplicación web de código abierto que permite crear y compartir documentos que contienen código en vivo, ecuaciones, visualizaciones y texto narrativo.</justify> "
   ]
  },
  {
   "cell_type": "markdown",
   "metadata": {
    "slideshow": {
     "slide_type": "slide"
    }
   },
   "source": [
    "## ¿Para qué se usa Jupyter Notebook?\n",
    "\n",
    "* Limpieza y transformación de datos.\n",
    "* Simulación numérica. \n",
    "* Modelado estadístico.\n",
    "* Visualización de datos.\n",
    "* Aprendizaje automático y mucho más."
   ]
  },
  {
   "cell_type": "markdown",
   "metadata": {
    "slideshow": {
     "slide_type": "notes"
    }
   },
   "source": [
    "\n",
    "¡Ok!, todo esto suena interesante ¿cierto?, pero de seguro se estarán preguntado:\n",
    "\n",
    "¿Y el código pa'cuando?\n"
   ]
  },
  {
   "cell_type": "markdown",
   "metadata": {
    "slideshow": {
     "slide_type": "slide"
    }
   },
   "source": [
    "## <center>¿Y el código pa'cuando?</center>"
   ]
  },
  {
   "cell_type": "markdown",
   "metadata": {
    "slideshow": {
     "slide_type": "notes"
    }
   },
   "source": [
    "Así que como dice un amigo mío: \"¡Vamo'al mambo!\"."
   ]
  },
  {
   "cell_type": "markdown",
   "metadata": {
    "slideshow": {
     "slide_type": "slide"
    }
   },
   "source": [
    "<center><img src=\"img/buzz-lightyear-698x682.png\"></center>\n",
    "\n",
    "## <p style=\"text-align: center;\">\"Hasta el infinito y más allá\"</p>"
   ]
  },
  {
   "cell_type": "markdown",
   "metadata": {
    "slideshow": {
     "slide_type": "slide"
    }
   },
   "source": [
    "#  <center>Contacto</center>\n",
    "\n",
    "<center><img src=\"img/Emilio-317x303.png\" alt=\"Emilio\"></center>\n",
    "\n",
    "\n",
    "## <center>GitHub: www.github.com/emilioferreyra</center>\n",
    "## <center>LinkedIn: www.linkedin.com/in/ramonemilioferreyra</center>\n",
    "## <center>Twitter: www.twitter.com/Emilio_Ferreyra</center>"
   ]
  }
 ],
 "metadata": {
  "celltoolbar": "Slideshow",
  "kernelspec": {
   "display_name": "Python 3",
   "language": "python",
   "name": "python3"
  },
  "language_info": {
   "codemirror_mode": {
    "name": "ipython",
    "version": 3
   },
   "file_extension": ".py",
   "mimetype": "text/x-python",
   "name": "python",
   "nbconvert_exporter": "python",
   "pygments_lexer": "ipython3",
   "version": "3.6.9"
  }
 },
 "nbformat": 4,
 "nbformat_minor": 4
}
