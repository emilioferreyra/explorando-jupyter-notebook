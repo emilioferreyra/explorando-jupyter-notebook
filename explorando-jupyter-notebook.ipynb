{
 "cells": [
  {
   "cell_type": "markdown",
   "metadata": {
    "slideshow": {
     "slide_type": "slide"
    }
   },
   "source": [
    "# <p style=\"text-align: center;\">Explorando Jupyter Notebook</p>\n",
    "#### <p style=\"text-align: center;\">Por Emilio Ferreyra</p>"
   ]
  },
  {
   "cell_type": "markdown",
   "metadata": {
    "slideshow": {
     "slide_type": "notes"
    }
   },
   "source": [
    "Hola y bienvenidos a esta desconferencia para mi es un placer y un honor tener la oportunidad de participar por tercera vez en el Barcamp Santiago."
   ]
  },
  {
   "cell_type": "markdown",
   "metadata": {
    "slideshow": {
     "slide_type": "slide"
    }
   },
   "source": [
    "<center><img src=\"img/Emilio.png\" alt=\"Emilio\"</center>\n",
    "\n",
    "# <p style=\"text-align: center;\">¡Hola, soy Emilio!</p>\n",
    "\n",
    "<p style=\"text-align: center;\">Soy ingeniero en software, amante de GNU/Linux y el software libre. Ciclista de montaña de ocasión. Autodidacta por vocación. Creo que Python rockea y que puedes extender tu mente con Django.</p>"
   ]
  },
  {
   "cell_type": "markdown",
   "metadata": {
    "slideshow": {
     "slide_type": "slide"
    }
   },
   "source": [
    "<center><img src=\"img/jupyter-main.png\"></center>\n",
    "\n",
    "<p style=\"text-align: center;\"><a href=\"https://jupyter.org/\">Jupyter Project</a></p>\n"
   ]
  },
  {
   "cell_type": "markdown",
   "metadata": {
    "slideshow": {
     "slide_type": "notes"
    }
   },
   "source": [
    "Gracias por atender nuestra invitación para explorar Jupyter Notebook."
   ]
  },
  {
   "cell_type": "markdown",
   "metadata": {
    "slideshow": {
     "slide_type": "slide"
    }
   },
   "source": [
    "## ¿Qué es Jupyter Notebook?\n",
    "\n",
    "Jupyter Notebook es una aplicación web de código abierto que permite crear y compartir documentos que contienen código en vivo, ecuaciones, visualizaciones y texto narrativo. "
   ]
  },
  {
   "cell_type": "markdown",
   "metadata": {
    "slideshow": {
     "slide_type": "notes"
    }
   },
   "source": [
    "Jupyter Notebook es una aplicación web de código abierto que le permite crear y compartir documentos que contienen código en vivo, ecuaciones, visualizaciones y texto narrativo.\n"
   ]
  },
  {
   "cell_type": "markdown",
   "metadata": {
    "slideshow": {
     "slide_type": "slide"
    }
   },
   "source": [
    "## ¿Para qué se usa Jupyter Notebook?\n",
    "\n",
    "Los usos incluyen: \n",
    "\n",
    "* Limpieza y transformación de datos.\n",
    "* Simulación numérica. \n",
    "* Modelado estadístico.\n",
    "* Visualización de datos.\n",
    "* Aprendizaje automático y mucho más."
   ]
  },
  {
   "cell_type": "markdown",
   "metadata": {
    "slideshow": {
     "slide_type": "notes"
    }
   },
   "source": [
    "\n",
    "Ok, todo esto suena interesante ¿cierto?, algo teórico, así que no los voy a aburrir y como dice un amigo mío: \"¡Vamo'al mambo!\".\n",
    "\n",
    "Aprender una nueva tecnología se asemeja mucho a preparar un viaje al extrajero..."
   ]
  },
  {
   "cell_type": "markdown",
   "metadata": {
    "slideshow": {
     "slide_type": "slide"
    }
   },
   "source": [
    "![](img/lara-croft.png)"
   ]
  },
  {
   "cell_type": "markdown",
   "metadata": {
    "slideshow": {
     "slide_type": "notes"
    }
   },
   "source": [
    "nos disponemos a explorar algo nuevo, así que investigamos un poco sobre su historia, su cultura, su comida…  de ahí el nombre de nuestra desconferencia “Explorando Jupyter Notebook”."
   ]
  }
 ],
 "metadata": {
  "celltoolbar": "Slideshow",
  "kernelspec": {
   "display_name": "Python 3",
   "language": "python",
   "name": "python3"
  },
  "language_info": {
   "codemirror_mode": {
    "name": "ipython",
    "version": 3
   },
   "file_extension": ".py",
   "mimetype": "text/x-python",
   "name": "python",
   "nbconvert_exporter": "python",
   "pygments_lexer": "ipython3",
   "version": "3.6.9"
  }
 },
 "nbformat": 4,
 "nbformat_minor": 4
}
